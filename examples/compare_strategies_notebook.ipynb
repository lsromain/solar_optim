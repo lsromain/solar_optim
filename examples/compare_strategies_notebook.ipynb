{
 "cells": [
  {
   "cell_type": "code",
   "execution_count": 24,
   "metadata": {},
   "outputs": [],
   "source": [
    "from datetime import datetime, timedelta\n",
    "import matplotlib.pyplot as plt\n",
    "\n",
    "from solar_optimization.core import *#TimeSeriesConfig, BaseConsumption, ConsumptionPeak, SolarProduction, SolarProductionPeak, Scenario, ScenarioInputs\n",
    "from solar_optimization.devices.cet import CETProperties\n",
    "from solar_optimization.strategies import *#ScheduledStrategy, SolarOnlyStrategy, MaximizeSolarStrategy, OptimizationStrategy\n",
    "from solar_optimization.visualization.plotter import SolarOptimizationVisualizer, ScenarioDataVisualiser"
   ]
  },
  {
   "cell_type": "code",
   "execution_count": null,
   "metadata": {},
   "outputs": [],
   "source": [
    "## Generate the scenario\n",
    "# Timestamps\n",
    "time_resolution = 5 #minutes\n",
    "timestamps = TimeSeriesConfig.create_timestamps(time_delta=timedelta(minutes=time_resolution))\n",
    "## Data generation\n",
    "# ConsumptionScenarios: WEEK_DAY / WEEKEND_DAY\n",
    "# ProductionScenarios: SUMMER_SUNNY_ALL_DAY / SUMMER_CLOUDY / WINTER_SUNNY_ALL_DAY / WINTER_CLOUDY\n",
    "scenario = Scenario(ScenarioInputs(timestamps, \n",
    "                                   DefaultBaseConsumption.generate(DefaultConsumptionScenario.WEEK_DAY), \n",
    "                                   DefaultSolarProduction.generate(DefaultProductionScenario.SUMMER_SUNNY_ALL_DAY)))\n",
    "\n",
    "ScenarioDataVisualiser.plot_scenario(scenario)"
   ]
  },
  {
   "cell_type": "code",
   "execution_count": 26,
   "metadata": {},
   "outputs": [],
   "source": [
    "## Strategies configuration\n",
    "strategies = [\n",
    "    ScheduledStrategy(\n",
    "        \"Night scheduling\", [\n",
    "        {\"start\": datetime(2024, 1, 1, 0, 0), \"end\": datetime(2024, 1, 1, 2, 0)},\n",
    "        {\"start\": datetime(2024, 1, 1, 22, 0),\"end\": datetime(2024, 1, 2, 0, 0)}\n",
    "    ]),\n",
    "    ScheduledStrategy(\n",
    "        \"Day scheduling\", [\n",
    "        {\"start\": datetime(2024, 1, 1, 11, 0),\n",
    "         \"end\": datetime(2024, 1, 1, 15, 0)}\n",
    "    ]),\n",
    "    SolarOnlyStrategy(\"100% Solar\", threshold_start=1.1),\n",
    "    MaximizeSolarStrategy(\"Max. Solar.\"),\n",
    "    OptimizationStrategy(\"Optimiz\", threshold=0.5)\n",
    "]\n",
    "## Strategies evalutation of CET optimization\n",
    "# CET properties\n",
    "cet_properties = CETProperties(power=1, min_duration=timedelta(minutes=15), max_duration=timedelta(hours=4))"
   ]
  },
  {
   "cell_type": "code",
   "execution_count": 27,
   "metadata": {},
   "outputs": [],
   "source": [
    "# Evaluate strategies and store results\n",
    "results = {}\n",
    "for strategy in strategies:\n",
    "    # Run optimization for each strategy\n",
    "    results[strategy.name] = strategy.run_optimization(scenario, cet_properties)\n"
   ]
  },
  {
   "cell_type": "code",
   "execution_count": null,
   "metadata": {},
   "outputs": [],
   "source": [
    "## Display results\n",
    "# Create figure for plotting\n",
    "strategies_to_compare = [\"Night scheduling\", \"Day scheduling\", \"100% Solar\", \"Max. Solar.\",\"Optimiz\"]\n",
    "metrics_to_display = ['import_reseau','export_reseau', 'production_totale','taux_autoconsommation','cout_total','cout_moyen_kwh', 'cout_fonctionnement_cet','cet_solar_share']\n",
    "SolarOptimizationVisualizer.plot_all_results(scenario, results, metrics_to_display, strategies_to_compare)\n",
    "plt.show()"
   ]
  }
 ],
 "metadata": {
  "kernelspec": {
   "display_name": "Python 3",
   "language": "python",
   "name": "python3"
  },
  "language_info": {
   "codemirror_mode": {
    "name": "ipython",
    "version": 3
   },
   "file_extension": ".py",
   "mimetype": "text/x-python",
   "name": "python",
   "nbconvert_exporter": "python",
   "pygments_lexer": "ipython3",
   "version": "3.11.4"
  }
 },
 "nbformat": 4,
 "nbformat_minor": 2
}
